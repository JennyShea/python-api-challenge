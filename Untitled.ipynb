{
 "cells": [
  {
   "cell_type": "code",
   "execution_count": 1,
   "id": "d3764f1b",
   "metadata": {},
   "outputs": [],
   "source": [
    "#imports pandas and shorten the name\n",
    "import pandas as pd\n",
    "\n",
    "#import numpy so you can use arrays and shorten the name\n",
    "import numpy as np\n",
    "\n",
    "#import matplotlib.pyplot so you can make plots and charts and shorten the name\n",
    "import matplotlib.pyplot as pyplot\n",
    "\n",
    "#import requests so you can make API calls\n",
    "import requests\n",
    "\n",
    "#import time so you can use dates and timepoints\n",
    "import time\n",
    "\n",
    "#import json so python can make sense of the data from the API call\n",
    "import json\n",
    "\n",
    "#import the ability to do linear regressions from the scipy.stats package\n",
    "from scipy.stats import linregress\n",
    "\n",
    "#import the API key for OpenWeather from the config file\n",
    "from config import api_key\n"
   ]
  },
  {
   "cell_type": "code",
   "execution_count": null,
   "id": "08f60f86",
   "metadata": {},
   "outputs": [],
   "source": []
  }
 ],
 "metadata": {
  "kernelspec": {
   "display_name": "Python [conda env:PythonData]",
   "language": "python",
   "name": "conda-env-PythonData-py"
  },
  "language_info": {
   "codemirror_mode": {
    "name": "ipython",
    "version": 3
   },
   "file_extension": ".py",
   "mimetype": "text/x-python",
   "name": "python",
   "nbconvert_exporter": "python",
   "pygments_lexer": "ipython3",
   "version": "3.8.11"
  }
 },
 "nbformat": 4,
 "nbformat_minor": 5
}
